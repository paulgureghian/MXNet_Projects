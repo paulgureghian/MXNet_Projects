{
  "nbformat": 4,
  "nbformat_minor": 0,
  "metadata": {
    "colab": {
      "name": "MXNet_Gluon.ipynb",
      "version": "0.3.2",
      "provenance": [],
      "collapsed_sections": [],
      "include_colab_link": true
    },
    "kernelspec": {
      "name": "python3",
      "display_name": "Python 3"
    },
    "accelerator": "GPU"
  },
  "cells": [
    {
      "cell_type": "markdown",
      "metadata": {
        "id": "view-in-github",
        "colab_type": "text"
      },
      "source": [
        "<a href=\"https://colab.research.google.com/github/paulgureghian/MXNet_Projects/blob/master/MXNet_Gluon.ipynb\" target=\"_parent\"><img src=\"https://colab.research.google.com/assets/colab-badge.svg\" alt=\"Open In Colab\"/></a>"
      ]
    },
    {
      "metadata": {
        "id": "3wf43CI7fsZb",
        "colab_type": "text"
      },
      "cell_type": "markdown",
      "source": [
        "### **Created by Paul A. Gureghian in April 2019.**"
      ]
    },
    {
      "metadata": {
        "id": "nRCB0PCGf5Hq",
        "colab_type": "text"
      },
      "cell_type": "markdown",
      "source": [
        "### **This scientific notebook will implement a 'Resnet' CNN model using the MXNet Gluon library**\n",
        "\n",
        "### **And 'Comet.ml' will be used for tracking the model experiments.**"
      ]
    },
    {
      "metadata": {
        "id": "qFxuuqJniDYK",
        "colab_type": "code",
        "outputId": "0a5359c8-33bf-4644-b779-a3899b04d187",
        "colab": {
          "base_uri": "https://localhost:8080/",
          "height": 153
        }
      },
      "cell_type": "code",
      "source": [
        "### Install MXNet\n",
        "!pip install -q mxnet-cu100\n",
        "print(\"MXNet installed\")"
      ],
      "execution_count": 1,
      "outputs": [
        {
          "output_type": "stream",
          "text": [
            "\u001b[K    100% |████████████████████████████████| 487.9MB 36kB/s \n",
            "\u001b[K    100% |████████████████████████████████| 13.8MB 2.6MB/s \n",
            "\u001b[31mspacy 2.0.18 has requirement numpy>=1.15.0, but you'll have numpy 1.14.6 which is incompatible.\u001b[0m\n",
            "\u001b[31mimgaug 0.2.8 has requirement numpy>=1.15.0, but you'll have numpy 1.14.6 which is incompatible.\u001b[0m\n",
            "\u001b[31mfastai 1.0.51 has requirement numpy>=1.15, but you'll have numpy 1.14.6 which is incompatible.\u001b[0m\n",
            "\u001b[31mdatascience 0.10.6 has requirement folium==0.2.1, but you'll have folium 0.8.3 which is incompatible.\u001b[0m\n",
            "\u001b[31malbumentations 0.1.12 has requirement imgaug<0.2.7,>=0.2.5, but you'll have imgaug 0.2.8 which is incompatible.\u001b[0m\n",
            "\u001b[?25hMXNet installed\n"
          ],
          "name": "stdout"
        }
      ]
    },
    {
      "metadata": {
        "id": "JDSbVcrKjApr",
        "colab_type": "code",
        "outputId": "53f131df-d057-4a65-b1ac-cb3b6c7b08d2",
        "colab": {
          "base_uri": "https://localhost:8080/",
          "height": 51
        }
      },
      "cell_type": "code",
      "source": [
        "### Install Gluon\n",
        "!pip install -q gluoncv --upgrade\n",
        "print(\"Gluon installed\") "
      ],
      "execution_count": 2,
      "outputs": [
        {
          "output_type": "stream",
          "text": [
            "\u001b[?25l\r\u001b[K    2% |█                               | 10kB 24.8MB/s eta 0:00:01\r\u001b[K    5% |██                              | 20kB 7.0MB/s eta 0:00:01\r\u001b[K    8% |██▉                             | 30kB 9.9MB/s eta 0:00:01\r\u001b[K    11% |███▉                            | 40kB 6.2MB/s eta 0:00:01\r\u001b[K    14% |████▉                           | 51kB 7.6MB/s eta 0:00:01\r\u001b[K    17% |█████▊                          | 61kB 8.8MB/s eta 0:00:01\r\u001b[K    20% |██████▊                         | 71kB 10.0MB/s eta 0:00:01\r\u001b[K    23% |███████▋                        | 81kB 11.1MB/s eta 0:00:01\r\u001b[K    26% |████████▋                       | 92kB 12.2MB/s eta 0:00:01\r\u001b[K    29% |█████████▋                      | 102kB 9.9MB/s eta 0:00:01\r\u001b[K    32% |██████████▌                     | 112kB 10.1MB/s eta 0:00:01\r\u001b[K    35% |███████████▌                    | 122kB 13.1MB/s eta 0:00:01\r\u001b[K    38% |████████████▌                   | 133kB 12.9MB/s eta 0:00:01\r\u001b[K    41% |█████████████▍                  | 143kB 22.0MB/s eta 0:00:01\r\u001b[K    44% |██████████████▍                 | 153kB 22.1MB/s eta 0:00:01\r\u001b[K    47% |███████████████▎                | 163kB 22.3MB/s eta 0:00:01\r\u001b[K    50% |████████████████▎               | 174kB 21.4MB/s eta 0:00:01\r\u001b[K    53% |█████████████████▎              | 184kB 21.7MB/s eta 0:00:01\r\u001b[K    56% |██████████████████▏             | 194kB 21.9MB/s eta 0:00:01\r\u001b[K    59% |███████████████████▏            | 204kB 26.0MB/s eta 0:00:01\r\u001b[K    62% |████████████████████            | 215kB 26.1MB/s eta 0:00:01\r\u001b[K    65% |█████████████████████           | 225kB 26.0MB/s eta 0:00:01\r\u001b[K    68% |██████████████████████          | 235kB 26.9MB/s eta 0:00:01\r\u001b[K    71% |███████████████████████         | 245kB 26.5MB/s eta 0:00:01\r\u001b[K    74% |████████████████████████        | 256kB 26.8MB/s eta 0:00:01\r\u001b[K    77% |█████████████████████████       | 266kB 25.3MB/s eta 0:00:01\r\u001b[K    80% |█████████████████████████▉      | 276kB 26.9MB/s eta 0:00:01\r\u001b[K    83% |██████████████████████████▉     | 286kB 27.1MB/s eta 0:00:01\r\u001b[K    86% |███████████████████████████▊    | 296kB 26.8MB/s eta 0:00:01\r\u001b[K    89% |████████████████████████████▊   | 307kB 52.5MB/s eta 0:00:01\r\u001b[K    92% |█████████████████████████████▊  | 317kB 55.0MB/s eta 0:00:01\r\u001b[K    95% |██████████████████████████████▋ | 327kB 55.0MB/s eta 0:00:01\r\u001b[K    98% |███████████████████████████████▋| 337kB 55.7MB/s eta 0:00:01\r\u001b[K    100% |████████████████████████████████| 348kB 27.5MB/s \n",
            "\u001b[?25hGluon installed\n"
          ],
          "name": "stdout"
        }
      ]
    },
    {
      "metadata": {
        "id": "f_MXj__RkYiF",
        "colab_type": "code",
        "outputId": "731f5e52-a487-49d7-bed1-d3ef798f72ca",
        "colab": {
          "base_uri": "https://localhost:8080/",
          "height": 102
        }
      },
      "cell_type": "code",
      "source": [
        "### Install Comet_ML \n",
        "!pip install -q comet_ml\n",
        "print(\"Comet installed\")"
      ],
      "execution_count": 3,
      "outputs": [
        {
          "output_type": "stream",
          "text": [
            "\u001b[K    100% |████████████████████████████████| 102kB 11.2MB/s \n",
            "\u001b[K    100% |████████████████████████████████| 389kB 24.0MB/s \n",
            "\u001b[K    100% |████████████████████████████████| 204kB 27.5MB/s \n",
            "\u001b[?25h  Building wheel for configobj (setup.py) ... \u001b[?25ldone\n",
            "\u001b[?25hComet installed\n"
          ],
          "name": "stdout"
        }
      ]
    },
    {
      "metadata": {
        "id": "rUfbMJBFp07S",
        "colab_type": "code",
        "outputId": "a7a2cd9a-d18a-454d-ad1d-b102e1f19119",
        "colab": {
          "base_uri": "https://localhost:8080/",
          "height": 51
        }
      },
      "cell_type": "code",
      "source": [
        "### Import packages\n",
        "from comet_ml import Experiment\n",
        "\n",
        "import time\n",
        "import logging\n",
        "import argparse\n",
        "\n",
        "import numpy as np\n",
        "import mxnet as mx\n",
        "\n",
        "from mxnet.gluon import nn\n",
        "from mxnet import gluon, nd\n",
        "from mxnet import autograd as ag\n",
        "from mxnet.gluon.data.vision import transforms\n",
        "\n",
        "from gluoncv.model_zoo import get_model\n",
        "from gluoncv.utils import makedirs, TrainingHistory\n",
        "from gluoncv.data import transforms as gcv_transforms\n",
        "\n",
        "import itertools\n",
        "import matplotlib.pyplot as plt\n",
        "plt.switch_backend('agg')\n",
        "from sklearn.metrics import confusion_matrix\n",
        "\n",
        "experiment = Experiment(api_key='NF5R5m1y3wNyy8HjXbsqfx8ZD', project_name='mxnet_comet_demo' , workspace='paulgureghian')"
      ],
      "execution_count": 4,
      "outputs": [
        {
          "output_type": "stream",
          "text": [
            "COMET INFO: Experiment is live on comet.ml https://www.comet.ml/paulgureghian/mxnet-comet-demo/d49216b4b5b246d0a3021015886288a6\n",
            "\n"
          ],
          "name": "stderr"
        }
      ]
    },
    {
      "metadata": {
        "id": "tnQCNX_ZM8Qj",
        "colab_type": "code",
        "colab": {
          "base_uri": "https://localhost:8080/",
          "height": 217
        },
        "outputId": "0a433324-91b1-444e-9dc4-8c4985443619"
      },
      "cell_type": "code",
      "source": [
        "### Instantiate an 'argparse' object\n",
        "parser = argparse.ArgumentParser()\n",
        "\n",
        "print(parser)\n",
        "\n",
        "opt = parser.parse_args()\n",
        "\n",
        "print(opt)"
      ],
      "execution_count": 19,
      "outputs": [
        {
          "output_type": "stream",
          "text": [
            "ArgumentParser(prog='ipykernel_launcher.py', usage=None, description=None, formatter_class=<class 'argparse.HelpFormatter'>, conflict_handler='error', add_help=True)\n"
          ],
          "name": "stdout"
        },
        {
          "output_type": "stream",
          "text": [
            "usage: ipykernel_launcher.py [-h]\n",
            "ipykernel_launcher.py: error: unrecognized arguments: -f /root/.local/share/jupyter/runtime/kernel-bb959e8a-b26a-4111-baeb-442e286edb23.json\n"
          ],
          "name": "stderr"
        },
        {
          "output_type": "error",
          "ename": "SystemExit",
          "evalue": "ignored",
          "traceback": [
            "An exception has occurred, use %tb to see the full traceback.\n",
            "\u001b[0;31mSystemExit\u001b[0m\u001b[0;31m:\u001b[0m 2\n"
          ]
        },
        {
          "output_type": "stream",
          "text": [
            "/usr/local/lib/python3.6/dist-packages/IPython/core/interactiveshell.py:2890: UserWarning: To exit: use 'exit', 'quit', or Ctrl-D.\n",
            "  warn(\"To exit: use 'exit', 'quit', or Ctrl-D.\", stacklevel=1)\n"
          ],
          "name": "stderr"
        }
      ]
    },
    {
      "metadata": {
        "id": "pIYkM6XQOxIg",
        "colab_type": "code",
        "colab": {}
      },
      "cell_type": "code",
      "source": [
        "### Set the number of GPUs to use \n",
        "batch_size = 32\n",
        "classes = 10 \n",
        "class_labels = ['airplane','automobile','bird','cat','deer','dog','frog','horse','ship','truck']\n",
        "\n",
        "num_gpus = 1\n",
        "batch_size *= max(1, num_gpus)\n",
        "context = [mx.gpu(i) for i in range(num_gpus)] if num_gpus > 0 else [mx.cpu()]\n",
        "num_workers = 1"
      ],
      "execution_count": 0,
      "outputs": []
    },
    {
      "metadata": {
        "id": "5hsdu3IC7fIA",
        "colab_type": "code",
        "colab": {}
      },
      "cell_type": "code",
      "source": [
        "### Setup data augmentation\n",
        "transform_train = transforms.Compose([gcv_transforms.RandomCrop(32, pad=4),\n",
        "                                      transforms.RandomFlipLeftRight(),\n",
        "                                      transforms.ToTensor(),\n",
        "                                      transforms.Normalize([0.4914, 0.4822, 0.4465],\n",
        "                                                           [0.2023, 0.1994, 0.2010])]) \n",
        "\n",
        "transform_test = transforms.Compose([transforms.ToTensor(),\n",
        "                                     transforms.Normalize([0.4914, 0.4822, 0.4465],\n",
        "                                                          [0.2023, 0.1994, 0.2010])])"
      ],
      "execution_count": 0,
      "outputs": []
    },
    {
      "metadata": {
        "id": "70VkDvL-_ok5",
        "colab_type": "code",
        "colab": {}
      },
      "cell_type": "code",
      "source": [
        "### Set a Learning Rate (lr)\n",
        "lr_decay = 0.001 \n",
        "lr_decay_epoch = [int(i) for i in lr_decay_epoch.split(',')] + [np.inf]"
      ],
      "execution_count": 0,
      "outputs": []
    },
    {
      "metadata": {
        "id": "K8R93rwbXtUS",
        "colab_type": "code",
        "colab": {}
      },
      "cell_type": "code",
      "source": [
        "!pip freeze "
      ],
      "execution_count": 0,
      "outputs": []
    }
  ]
}