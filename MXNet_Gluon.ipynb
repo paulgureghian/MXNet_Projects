{
  "nbformat": 4,
  "nbformat_minor": 0,
  "metadata": {
    "colab": {
      "name": "MXNet_Gluon.ipynb",
      "version": "0.3.2",
      "provenance": [],
      "collapsed_sections": [],
      "include_colab_link": true
    },
    "kernelspec": {
      "name": "python3",
      "display_name": "Python 3"
    },
    "accelerator": "GPU"
  },
  "cells": [
    {
      "cell_type": "markdown",
      "metadata": {
        "id": "view-in-github",
        "colab_type": "text"
      },
      "source": [
        "<a href=\"https://colab.research.google.com/github/paulgureghian/MXNet_Projects/blob/master/MXNet_Gluon.ipynb\" target=\"_parent\"><img src=\"https://colab.research.google.com/assets/colab-badge.svg\" alt=\"Open In Colab\"/></a>"
      ]
    },
    {
      "metadata": {
        "id": "3wf43CI7fsZb",
        "colab_type": "text"
      },
      "cell_type": "markdown",
      "source": [
        "### **Created by Paul A. Gureghian in April 2019.**"
      ]
    },
    {
      "metadata": {
        "id": "nRCB0PCGf5Hq",
        "colab_type": "text"
      },
      "cell_type": "markdown",
      "source": [
        "### **This scientific notebook will implement a 'Resnet' CNN model using the MXNet Gluon library**\n",
        "\n",
        "### **And 'Comet.ml' will be used for tracking the model experiments.**"
      ]
    },
    {
      "metadata": {
        "id": "qFxuuqJniDYK",
        "colab_type": "code",
        "outputId": "06c650be-f73f-401a-859e-205d7afdbca7",
        "colab": {
          "base_uri": "https://localhost:8080/",
          "height": 34
        }
      },
      "cell_type": "code",
      "source": [
        "### Install MXNet\n",
        "!pip install -q mxnet-cu100\n",
        "print(\"MXNet installed\")"
      ],
      "execution_count": 6,
      "outputs": [
        {
          "output_type": "stream",
          "text": [
            "MXNet installed\n"
          ],
          "name": "stdout"
        }
      ]
    },
    {
      "metadata": {
        "id": "JDSbVcrKjApr",
        "colab_type": "code",
        "outputId": "cd97d3bb-b7ae-4e0c-d34c-94aef78ab138",
        "colab": {
          "base_uri": "https://localhost:8080/",
          "height": 34
        }
      },
      "cell_type": "code",
      "source": [
        "### Install Gluon\n",
        "!pip install -q gluoncv --upgrade\n",
        "print(\"Gluon installed\") "
      ],
      "execution_count": 7,
      "outputs": [
        {
          "output_type": "stream",
          "text": [
            "Gluon installed\n"
          ],
          "name": "stdout"
        }
      ]
    },
    {
      "metadata": {
        "id": "f_MXj__RkYiF",
        "colab_type": "code",
        "outputId": "688a8f07-05c2-4895-df3b-34bf4cacb61c",
        "colab": {
          "base_uri": "https://localhost:8080/",
          "height": 34
        }
      },
      "cell_type": "code",
      "source": [
        "### Install Comet_ML \n",
        "!pip install -q comet_ml\n",
        "print(\"Comet installed\")"
      ],
      "execution_count": 8,
      "outputs": [
        {
          "output_type": "stream",
          "text": [
            "Comet installed\n"
          ],
          "name": "stdout"
        }
      ]
    },
    {
      "metadata": {
        "id": "rUfbMJBFp07S",
        "colab_type": "code",
        "outputId": "ec665399-c366-4f95-9dc6-3ca543121c28",
        "colab": {
          "base_uri": "https://localhost:8080/",
          "height": 221
        }
      },
      "cell_type": "code",
      "source": [
        "### Import packages\n",
        "from comet_ml import Experiment\n",
        "\n",
        "import time\n",
        "import logging\n",
        "import argparse\n",
        "\n",
        "import numpy as np\n",
        "import mxnet as mx\n",
        "\n",
        "from mxnet.gluon import nn\n",
        "from mxnet import gluon, nd\n",
        "from mxnet import autograd as ag\n",
        "from mxnet.gluon.data.vision import transforms\n",
        "\n",
        "from gluoncv.model_zoo import get_model\n",
        "from gluoncv.utils import makedirs, TrainingHistory\n",
        "from gluoncv.data import transforms as gcv_transforms\n",
        "\n",
        "import itertools\n",
        "import matplotlib.pyplot as plt\n",
        "plt.switch_backend('agg')\n",
        "from sklearn.metrics import confusion_matrix\n",
        "\n",
        "experiment = Experiment(api_key='NF5R5m1y3wNyy8HjXbsqfx8ZD', project_name='mxnet_comet_demo' , workspace='paulgureghian')"
      ],
      "execution_count": 9,
      "outputs": [
        {
          "output_type": "stream",
          "text": [
            "COMET INFO: ----------------------------\n",
            "COMET INFO: Comet.ml Experiment Summary:\n",
            "COMET INFO:   Data:\n",
            "COMET INFO:     url: https://www.comet.ml/paulgureghian/mxnet-comet-demo/53e64726247b494eace9094f1ec31c13\n",
            "COMET INFO:   Metrics:\n",
            "COMET INFO:         sys.gpu.0.free_memory: 15812263936\n",
            "COMET INFO:     sys.gpu.0.gpu_utilization: 0\n",
            "COMET INFO:        sys.gpu.0.total_memory: 15812263936\n",
            "COMET INFO:         sys.gpu.0.used_memory: 0\n",
            "COMET INFO: ----------------------------\n",
            "COMET INFO: Experiment is live on comet.ml https://www.comet.ml/paulgureghian/mxnet-comet-demo/91d6c4ef1f3c48e2ae670d416708260c\n",
            "\n"
          ],
          "name": "stderr"
        }
      ]
    },
    {
      "metadata": {
        "id": "tnQCNX_ZM8Qj",
        "colab_type": "code",
        "outputId": "33a6fdd1-5141-4d8a-93ec-7083acbe4624",
        "colab": {
          "base_uri": "https://localhost:8080/",
          "height": 350
        }
      },
      "cell_type": "code",
      "source": [
        "### Instantiate an 'argparse' object\n",
        "import ArgumentParserModule\n",
        "\n",
        "\n"
      ],
      "execution_count": 10,
      "outputs": [
        {
          "output_type": "stream",
          "text": [
            "usage: ipykernel_launcher.py [-h] [--batch-size BATCH_SIZE]\n",
            "                             [--num-gpus NUM_GPUS] [--model MODEL]\n",
            "                             [-j NUM_WORKERS] [--num-epochs NUM_EPOCHS]\n",
            "                             [--lr LR] [--momentum MOMENTUM] [--wd WD]\n",
            "                             [--lr-decay LR_DECAY]\n",
            "                             [--lr-decay-period LR_DECAY_PERIOD]\n",
            "                             [--lr-decay-epoch LR_DECAY_EPOCH]\n",
            "                             [--drop-rate DROP_RATE] [--mode MODE]\n",
            "                             [--save-period SAVE_PERIOD] [--save-dir SAVE_DIR]\n",
            "                             [--resume-from RESUME_FROM]\n",
            "                             [--save-plot-dir SAVE_PLOT_DIR]\n",
            "ipykernel_launcher.py: error: unrecognized arguments: -f /root/.local/share/jupyter/runtime/kernel-63c9bb5a-449a-4f6e-8c8b-c262f8c9b0e5.json\n"
          ],
          "name": "stderr"
        },
        {
          "output_type": "error",
          "ename": "SystemExit",
          "evalue": "ignored",
          "traceback": [
            "An exception has occurred, use %tb to see the full traceback.\n",
            "\u001b[0;31mSystemExit\u001b[0m\u001b[0;31m:\u001b[0m 2\n"
          ]
        },
        {
          "output_type": "stream",
          "text": [
            "/usr/local/lib/python3.6/dist-packages/IPython/core/interactiveshell.py:2890: UserWarning: To exit: use 'exit', 'quit', or Ctrl-D.\n",
            "  warn(\"To exit: use 'exit', 'quit', or Ctrl-D.\", stacklevel=1)\n"
          ],
          "name": "stderr"
        }
      ]
    },
    {
      "metadata": {
        "id": "pIYkM6XQOxIg",
        "colab_type": "code",
        "colab": {}
      },
      "cell_type": "code",
      "source": [
        "### Set the number of GPUs to use \n",
        "batch_size = 32\n",
        "classes = 10 \n",
        "class_labels = ['airplane','automobile','bird','cat','deer','dog','frog','horse','ship','truck']\n",
        "\n",
        "num_gpus = 1\n",
        "batch_size *= max(1, num_gpus)\n",
        "context = [mx.gpu(i) for i in range(num_gpus)] if num_gpus > 0 else [mx.cpu()]\n",
        "num_workers = 1"
      ],
      "execution_count": 0,
      "outputs": []
    },
    {
      "metadata": {
        "id": "5hsdu3IC7fIA",
        "colab_type": "code",
        "colab": {}
      },
      "cell_type": "code",
      "source": [
        "### Setup data augmentation\n",
        "transform_train = transforms.Compose([gcv_transforms.RandomCrop(32, pad=4),\n",
        "                                      transforms.RandomFlipLeftRight(),\n",
        "                                      transforms.ToTensor(),\n",
        "                                      transforms.Normalize([0.4914, 0.4822, 0.4465],\n",
        "                                                           [0.2023, 0.1994, 0.2010])]) \n",
        "\n",
        "transform_test = transforms.Compose([transforms.ToTensor(),\n",
        "                                     transforms.Normalize([0.4914, 0.4822, 0.4465],\n",
        "                                                          [0.2023, 0.1994, 0.2010])])"
      ],
      "execution_count": 0,
      "outputs": []
    },
    {
      "metadata": {
        "id": "70VkDvL-_ok5",
        "colab_type": "code",
        "colab": {}
      },
      "cell_type": "code",
      "source": [
        "### Set a Learning Rate (lr)\n",
        "lr_decay = 0.001 \n",
        "lr_decay_epoch = [int(i) for i in lr_decay_epoch.split(',')] + [np.inf]"
      ],
      "execution_count": 0,
      "outputs": []
    },
    {
      "metadata": {
        "id": "K8R93rwbXtUS",
        "colab_type": "code",
        "colab": {}
      },
      "cell_type": "code",
      "source": [
        "!pip freeze "
      ],
      "execution_count": 0,
      "outputs": []
    }
  ]
}